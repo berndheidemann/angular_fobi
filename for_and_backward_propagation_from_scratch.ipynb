{
  "nbformat": 4,
  "nbformat_minor": 0,
  "metadata": {
    "colab": {
      "name": "for- and backward-propagation from scratch.ipynb",
      "version": "0.3.2",
      "provenance": [],
      "collapsed_sections": [],
      "include_colab_link": true
    },
    "kernelspec": {
      "name": "python3",
      "display_name": "Python 3"
    }
  },
  "cells": [
    {
      "cell_type": "markdown",
      "metadata": {
        "id": "view-in-github",
        "colab_type": "text"
      },
      "source": [
        "<a href=\"https://colab.research.google.com/github/berndheidemann/angular_fobi/blob/master/for_and_backward_propagation_from_scratch.ipynb\" target=\"_parent\"><img src=\"https://colab.research.google.com/assets/colab-badge.svg\" alt=\"Open In Colab\"/></a>"
      ]
    },
    {
      "metadata": {
        "id": "NirHWth2ED4M",
        "colab_type": "text"
      },
      "cell_type": "markdown",
      "source": [
        "# Forward propagation"
      ]
    },
    {
      "metadata": {
        "id": "jcZ0rs5a-XhZ",
        "colab_type": "code",
        "colab": {}
      },
      "cell_type": "code",
      "source": [
        "import numpy as np\n",
        "\n",
        "y = 5\n",
        "\n",
        "x = np.array([-1, 2, 0])\n",
        "\n",
        "w1 = np.array(\n",
        "     [[0, -2, 4, -1],\n",
        "      [3, 0, -10, 1],\n",
        "      [1, -1, -2, 1]])\n",
        "\n",
        "w2 = np.array([2,1,2,-2])\n",
        "\n",
        "def relu(a):\n",
        "  return np.maximum(a, 0)"
      ],
      "execution_count": 0,
      "outputs": []
    },
    {
      "metadata": {
        "id": "z5v0iTVqrcZ9",
        "colab_type": "code",
        "outputId": "80db29b5-2cd8-489b-82cd-bc5d551498fd",
        "colab": {
          "base_uri": "https://localhost:8080/",
          "height": 34
        }
      },
      "cell_type": "code",
      "source": [
        "z2=x@w1; z2"
      ],
      "execution_count": 0,
      "outputs": [
        {
          "output_type": "execute_result",
          "data": {
            "text/plain": [
              "array([  6,   2, -24,   3])"
            ]
          },
          "metadata": {
            "tags": []
          },
          "execution_count": 39
        }
      ]
    },
    {
      "metadata": {
        "id": "OwiF5m-Q_Vqc",
        "colab_type": "code",
        "outputId": "d8b8b17d-c46f-4a52-bca9-05c32e3a26c9",
        "colab": {
          "base_uri": "https://localhost:8080/",
          "height": 34
        }
      },
      "cell_type": "code",
      "source": [
        "a2 = relu(z2);a2"
      ],
      "execution_count": 0,
      "outputs": [
        {
          "output_type": "execute_result",
          "data": {
            "text/plain": [
              "array([6, 2, 0, 3])"
            ]
          },
          "metadata": {
            "tags": []
          },
          "execution_count": 40
        }
      ]
    },
    {
      "metadata": {
        "id": "astx-LXY-x_-",
        "colab_type": "code",
        "outputId": "08566af8-c8ce-4d9b-dbd7-402079689879",
        "colab": {
          "base_uri": "https://localhost:8080/",
          "height": 34
        }
      },
      "cell_type": "code",
      "source": [
        "z3=w2.T@a2; z3"
      ],
      "execution_count": 0,
      "outputs": [
        {
          "output_type": "execute_result",
          "data": {
            "text/plain": [
              "8"
            ]
          },
          "metadata": {
            "tags": []
          },
          "execution_count": 41
        }
      ]
    },
    {
      "metadata": {
        "id": "G7mctJOdsDNx",
        "colab_type": "code",
        "colab": {}
      },
      "cell_type": "code",
      "source": [
        "yhat=z3"
      ],
      "execution_count": 0,
      "outputs": []
    },
    {
      "metadata": {
        "id": "UJ8DuJUy_z9P",
        "colab_type": "code",
        "colab": {}
      },
      "cell_type": "code",
      "source": [
        "loss = (y-yhat)**2"
      ],
      "execution_count": 0,
      "outputs": []
    },
    {
      "metadata": {
        "id": "rgzT63w-EJt2",
        "colab_type": "code",
        "colab": {}
      },
      "cell_type": "code",
      "source": [
        "#oder in einem ausdruck:\n",
        "loss = (y-relu(x@w1)@w2.T)**2"
      ],
      "execution_count": 0,
      "outputs": []
    },
    {
      "metadata": {
        "id": "Fim9FVCAEXpp",
        "colab_type": "text"
      },
      "cell_type": "markdown",
      "source": [
        "# Ein vollständiges neuronales Netz inklusive Backpropagation mit etwas Unterstützung von Pytorch"
      ]
    },
    {
      "metadata": {
        "id": "f4rrU66UJ8WR",
        "colab_type": "text"
      },
      "cell_type": "markdown",
      "source": [
        "## Vorbereitungen"
      ]
    },
    {
      "metadata": {
        "id": "lITRiw17EWke",
        "colab_type": "code",
        "colab": {}
      },
      "cell_type": "code",
      "source": [
        "import torch\n",
        "\n",
        "x = torch.tensor([-1., 2., 0.])\n",
        "\n",
        "w1 = nn.Parameter(torch.tensor( [[0., -2., 4., -1.],\n",
        "                                [3., 0., -10., 1.],\n",
        "                                [1., -1., -2., 1.]]))   \n",
        "\n",
        "w2 = nn.Parameter(torch.tensor([2.,1.,2.,-2.]))"
      ],
      "execution_count": 0,
      "outputs": []
    },
    {
      "metadata": {
        "id": "J4imkxhNEpvQ",
        "colab_type": "code",
        "colab": {}
      },
      "cell_type": "code",
      "source": [
        "y = 5"
      ],
      "execution_count": 0,
      "outputs": []
    },
    {
      "metadata": {
        "id": "wW-Zls-kFYMm",
        "colab_type": "code",
        "colab": {}
      },
      "cell_type": "code",
      "source": [
        "def relu(a):\n",
        "  return torch.max(torch.tensor(0.), a)"
      ],
      "execution_count": 0,
      "outputs": []
    },
    {
      "metadata": {
        "id": "Ow6KDC4LFyfc",
        "colab_type": "code",
        "colab": {
          "base_uri": "https://localhost:8080/",
          "height": 34
        },
        "outputId": "1818e446-4eea-4a7d-b2a7-08e2caa41df2"
      },
      "cell_type": "code",
      "source": [
        "yhat=(relu(x@w1)@w2).item(); yhat"
      ],
      "execution_count": 151,
      "outputs": [
        {
          "output_type": "execute_result",
          "data": {
            "text/plain": [
              "8.0"
            ]
          },
          "metadata": {
            "tags": []
          },
          "execution_count": 151
        }
      ]
    },
    {
      "metadata": {
        "id": "8ynmq8C1GFXc",
        "colab_type": "code",
        "colab": {
          "base_uri": "https://localhost:8080/",
          "height": 34
        },
        "outputId": "81d33311-656a-44b1-af06-b471a050dd46"
      },
      "cell_type": "code",
      "source": [
        "loss = (y-yhat)**2; loss"
      ],
      "execution_count": 152,
      "outputs": [
        {
          "output_type": "execute_result",
          "data": {
            "text/plain": [
              "9.0"
            ]
          },
          "metadata": {
            "tags": []
          },
          "execution_count": 152
        }
      ]
    },
    {
      "metadata": {
        "id": "FFU11gRsKF6y",
        "colab_type": "text"
      },
      "cell_type": "markdown",
      "source": [
        "## Hier kommt das eigentliche Netz"
      ]
    },
    {
      "metadata": {
        "id": "dCTclOmUILUu",
        "colab_type": "code",
        "colab": {}
      },
      "cell_type": "code",
      "source": [
        "learnrate=0.0001"
      ],
      "execution_count": 0,
      "outputs": []
    },
    {
      "metadata": {
        "id": "_7cxVl7xHAAN",
        "colab_type": "code",
        "colab": {}
      },
      "cell_type": "code",
      "source": [
        "def train(i):\n",
        "  yhat=(relu(x@w1)@w2)\n",
        "  loss=(y-yhat)**2\n",
        "  if i%10==0:\n",
        "    print(loss)\n",
        "  loss.backward()\n",
        "  with torch.no_grad():\n",
        "    w1.sub_(learnrate*w1.grad)\n",
        "    w2.sub_(learnrate*w2.grad)\n",
        "    w1.grad.zero_()\n",
        "    w2.grad.zero_()\n",
        "    return loss.item()"
      ],
      "execution_count": 0,
      "outputs": []
    },
    {
      "metadata": {
        "id": "3w2eTPhxIbGC",
        "colab_type": "code",
        "colab": {
          "base_uri": "https://localhost:8080/",
          "height": 357
        },
        "outputId": "86617d7c-cfcb-4a9b-d9ec-4a4a8cb93854"
      },
      "cell_type": "code",
      "source": [
        "losses=[]\n",
        "for i in range(200):\n",
        "  losses.append(train(i))"
      ],
      "execution_count": 155,
      "outputs": [
        {
          "output_type": "stream",
          "text": [
            "tensor(9., grad_fn=<PowBackward0>)\n",
            "tensor(6.1680, grad_fn=<PowBackward0>)\n",
            "tensor(4.2403, grad_fn=<PowBackward0>)\n",
            "tensor(2.9221, grad_fn=<PowBackward0>)\n",
            "tensor(2.0176, grad_fn=<PowBackward0>)\n",
            "tensor(1.3951, grad_fn=<PowBackward0>)\n",
            "tensor(0.9659, grad_fn=<PowBackward0>)\n",
            "tensor(0.6694, grad_fn=<PowBackward0>)\n",
            "tensor(0.4643, grad_fn=<PowBackward0>)\n",
            "tensor(0.3222, grad_fn=<PowBackward0>)\n",
            "tensor(0.2237, grad_fn=<PowBackward0>)\n",
            "tensor(0.1554, grad_fn=<PowBackward0>)\n",
            "tensor(0.1080, grad_fn=<PowBackward0>)\n",
            "tensor(0.0751, grad_fn=<PowBackward0>)\n",
            "tensor(0.0522, grad_fn=<PowBackward0>)\n",
            "tensor(0.0363, grad_fn=<PowBackward0>)\n",
            "tensor(0.0252, grad_fn=<PowBackward0>)\n",
            "tensor(0.0176, grad_fn=<PowBackward0>)\n",
            "tensor(0.0122, grad_fn=<PowBackward0>)\n",
            "tensor(0.0085, grad_fn=<PowBackward0>)\n"
          ],
          "name": "stdout"
        }
      ]
    },
    {
      "metadata": {
        "id": "FBZyBpo6IieM",
        "colab_type": "code",
        "colab": {
          "base_uri": "https://localhost:8080/",
          "height": 34
        },
        "outputId": "52fa1982-a8a0-450c-9504-928722000f4b"
      },
      "cell_type": "code",
      "source": [
        "yhat=(relu(x@w1)@w2).item(); yhat"
      ],
      "execution_count": 156,
      "outputs": [
        {
          "output_type": "execute_result",
          "data": {
            "text/plain": [
              "5.076911449432373"
            ]
          },
          "metadata": {
            "tags": []
          },
          "execution_count": 156
        }
      ]
    },
    {
      "metadata": {
        "id": "VhJVK8HqJyuT",
        "colab_type": "code",
        "colab": {
          "base_uri": "https://localhost:8080/",
          "height": 347
        },
        "outputId": "44674d83-4fe4-4b8b-9334-2335fdd4182e"
      },
      "cell_type": "code",
      "source": [
        "import matplotlib.pyplot as plt\n",
        "\n",
        "plt.plot(losses)\n",
        "plt.show()"
      ],
      "execution_count": 157,
      "outputs": [
        {
          "output_type": "display_data",
          "data": {
            "image/png": "[encoded data removed]",
            "text/plain": [
              "<Figure size 576x396 with 1 Axes>"
            ]
          },
          "metadata": {
            "tags": []
          }
        }
      ]
    },
    {
      "metadata": {
        "id": "iomt4R_yK4Lk",
        "colab_type": "code",
        "colab": {}
      },
      "cell_type": "code",
      "source": [
        ""
      ],
      "execution_count": 0,
      "outputs": []
    }
  ]
}